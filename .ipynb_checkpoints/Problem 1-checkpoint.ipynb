{
 "cells": [
  {
   "cell_type": "code",
   "execution_count": 6,
   "metadata": {},
   "outputs": [],
   "source": [
    "import pandas as pd\n",
    "import numpy as np\n",
    "import os\n",
    "import sys"
   ]
  },
  {
   "cell_type": "code",
   "execution_count": 7,
   "metadata": {},
   "outputs": [],
   "source": [
    "from matplotlib import pyplot as plt\n",
    "import sklearn.linear_model"
   ]
  },
  {
   "cell_type": "code",
   "execution_count": 8,
   "metadata": {},
   "outputs": [],
   "source": [
    "import matplotlib\n",
    "import matplotlib.pyplot as plt\n",
    "\n",
    "%matplotlib inline\n",
    "plt.style.use('seaborn') # pretty matplotlib plots\n",
    "\n",
    "import seaborn as sns\n",
    "sns.set('notebook', font_scale=1.25, style='whitegrid')"
   ]
  },
  {
   "cell_type": "code",
   "execution_count": 25,
   "metadata": {},
   "outputs": [],
   "source": [
    "def show_images(X, y, row_ids, n_rows=3, n_cols=3):\n",
    "    ''' Display images\n",
    "\n",
    "    Args\n",
    "    ----\n",
    "    X : 2D array, shape (N, 784)\n",
    "        Each row is a flat image vector for one example\n",
    "    y : 1D array, shape (N,)\n",
    "        Each row is label for one example\n",
    "    row_ids : list of int\n",
    "        Which rows of the dataset you want to display\n",
    "    '''\n",
    "    fig, axes = plt.subplots(\n",
    "            nrows=n_rows, ncols=n_cols,\n",
    "            figsize=(n_cols * 3, n_rows * 3))\n",
    "\n",
    "    for ii, row_id in enumerate(row_ids):\n",
    "        cur_ax = axes.flatten()[ii]\n",
    "        cur_ax.imshow(X[row_id].reshape(28,28), interpolation='nearest', vmin=0, vmax=1, cmap='gray')\n",
    "        cur_ax.set_xticks([])\n",
    "        cur_ax.set_yticks([])\n",
    "        cur_ax.set_title('y=%d' % y[row_id])"
   ]
  },
  {
   "cell_type": "code",
   "execution_count": 14,
   "metadata": {},
   "outputs": [],
   "source": [
    "DATA_DIR = 'digit_data/'"
   ]
  },
  {
   "cell_type": "code",
   "execution_count": 17,
   "metadata": {},
   "outputs": [],
   "source": [
    "x_tr_MF = np.loadtxt(os.path.join(DATA_DIR, 'x_train.csv'), delimiter=',', skiprows=1)\n",
    "x_va_NF = np.loadtxt(os.path.join(DATA_DIR, 'x_valid.csv'), delimiter=',', skiprows=1)\n",
    "x_te_PF = np.loadtxt(os.path.join(DATA_DIR, 'x_test.csv'), delimiter=',', skiprows=1)"
   ]
  },
  {
   "cell_type": "code",
   "execution_count": 18,
   "metadata": {},
   "outputs": [],
   "source": [
    "y_tr_M = np.loadtxt(os.path.join(DATA_DIR, 'y_train.csv'), delimiter=',', skiprows=1)\n",
    "y_va_N = np.loadtxt(os.path.join(DATA_DIR, 'y_valid.csv'), delimiter=',', skiprows=1)"
   ]
  },
  {
   "cell_type": "code",
   "execution_count": 41,
   "metadata": {},
   "outputs": [],
   "source": [
    "def summarize_data(x_NF, y_N):\n",
    "    N, F = x_NF.shape\n",
    "    total_positive = np.sum(y_N)\n",
    "    print('Total number of examples:', N)\n",
    "    print('Number of positive examples:', total_positive)\n",
    "    print('Fraction of positive examples: %.3f' % (total_positive/N))"
   ]
  },
  {
   "cell_type": "code",
   "execution_count": 43,
   "metadata": {},
   "outputs": [
    {
     "name": "stdout",
     "output_type": "stream",
     "text": [
      "Training Data\n",
      "Total number of examples: 9817\n",
      "Number of positive examples: 4913.0\n",
      "Fraction of positive examples: 0.500\n",
      "Validation Data\n",
      "Total number of examples: 1983\n",
      "Number of positive examples: 1036.0\n",
      "Fraction of positive examples: 0.522\n"
     ]
    }
   ],
   "source": [
    "print('Training Data')\n",
    "summarize_data(x_tr_MF, y_tr_M)\n",
    "print()\n",
    "print('Validation Data')\n",
    "summarize_data(x_va_NF, y_va_N)"
   ]
  },
  {
   "cell_type": "code",
   "execution_count": null,
   "metadata": {},
   "outputs": [],
   "source": []
  }
 ],
 "metadata": {
  "kernelspec": {
   "display_name": "Python 3",
   "language": "python",
   "name": "python3"
  },
  "language_info": {
   "codemirror_mode": {
    "name": "ipython",
    "version": 3
   },
   "file_extension": ".py",
   "mimetype": "text/x-python",
   "name": "python",
   "nbconvert_exporter": "python",
   "pygments_lexer": "ipython3",
   "version": "3.8.2"
  }
 },
 "nbformat": 4,
 "nbformat_minor": 4
}
