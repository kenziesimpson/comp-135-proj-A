{
 "cells": [
  {
   "cell_type": "code",
   "execution_count": 1,
   "metadata": {},
   "outputs": [
    {
     "name": "stderr",
     "output_type": "stream",
     "text": [
      "usage: ipykernel_launcher.py [-h] [--dataset_path DATASET_PATH]\n",
      "                             [--n_rows N_ROWS] [--n_cols N_COLS]\n",
      "                             [--example_ids_to_show EXAMPLE_IDS_TO_SHOW]\n",
      "ipykernel_launcher.py: error: unrecognized arguments: -f /home/michael/.local/share/jupyter/runtime/kernel-9bea7798-6acc-426e-bf90-c49516d3c36a.json\n"
     ]
    },
    {
     "ename": "SystemExit",
     "evalue": "2",
     "output_type": "error",
     "traceback": [
      "An exception has occurred, use %tb to see the full traceback.\n",
      "\u001b[0;31mSystemExit\u001b[0m\u001b[0;31m:\u001b[0m 2\n"
     ]
    },
    {
     "name": "stderr",
     "output_type": "stream",
     "text": [
      "/home/michael/bin/miniconda3/envs/comp135/lib/python3.8/site-packages/IPython/core/interactiveshell.py:3425: UserWarning: To exit: use 'exit', 'quit', or Ctrl-D.\n",
      "  warn(\"To exit: use 'exit', 'quit', or Ctrl-D.\", stacklevel=1)\n"
     ]
    }
   ],
   "source": [
    "'''\n",
    "Simple script to visualize 28x28 images stored in csv files\n",
    "\n",
    "Usage\n",
    "-----\n",
    "$ python show_images.py --dataset_path data_sandal_vs_sneaker/\n",
    "\n",
    "Expected Output\n",
    "---------------\n",
    "An active figure displaying 9 sample images arranged in 3x3 grid\n",
    "\n",
    "'''\n",
    "\n",
    "import argparse\n",
    "import pandas as pd\n",
    "import numpy as np\n",
    "import os\n",
    "import sys\n",
    "from matplotlib import pyplot as plt\n",
    "\n",
    "def show_images(X, y, row_ids, n_rows=3, n_cols=3):\n",
    "    ''' Display images\n",
    "\n",
    "    Args\n",
    "    ----\n",
    "    X : 2D array, shape (N, 784)\n",
    "        Each row is a flat image vector for one example\n",
    "    y : 1D array, shape (N,)\n",
    "        Each row is label for one example\n",
    "    row_ids : list of int\n",
    "        Which rows of the dataset you want to display\n",
    "    '''\n",
    "    fig, axes = plt.subplots(\n",
    "            nrows=n_rows, ncols=n_cols,\n",
    "            figsize=(n_cols * 3, n_rows * 3))\n",
    "\n",
    "    for ii, row_id in enumerate(row_ids):\n",
    "        cur_ax = axes.flatten()[ii]\n",
    "        cur_ax.imshow(X[row_id].reshape(28,28), interpolation='nearest', vmin=0, vmax=1, cmap='gray')\n",
    "        cur_ax.set_xticks([])\n",
    "        cur_ax.set_yticks([])\n",
    "        cur_ax.set_title('y=%d' % y[row_id])\n",
    "\n",
    "if __name__ == '__main__':\n",
    "    parser = argparse.ArgumentParser()\n",
    "    parser.add_argument('--dataset_path', default='data_digits_8_vs_9_noisy')\n",
    "    parser.add_argument('--n_rows', type=int, default=3)\n",
    "    parser.add_argument('--n_cols', type=int, default=3)\n",
    "    parser.add_argument('--example_ids_to_show', type=str, default='0,1,2,3,4,5,6,7,8')\n",
    "    args = parser.parse_args()\n",
    "\n",
    "    row_ids_to_show = list()\n",
    "    for row_id_str in args.example_ids_to_show.split(','):\n",
    "        row_id = int(row_id_str)\n",
    "        row_ids_to_show.append(row_id)\n",
    "\n",
    "    dataset_path = args.dataset_path\n",
    "\n",
    "    x_df = pd.read_csv(os.path.join(dataset_path, 'x_train.csv'))\n",
    "    x_NF = x_df.values\n",
    "\n",
    "    y_df = pd.read_csv(os.path.join(dataset_path, 'y_train.csv'))\n",
    "    y_N = y_df.values\n",
    "\n",
    "    show_images(x_NF, y_N, row_ids_to_show, args.n_rows, args.n_cols)\n",
    "    plt.show()\n",
    "\n"
   ]
  },
  {
   "cell_type": "code",
   "execution_count": null,
   "metadata": {},
   "outputs": [],
   "source": []
  }
 ],
 "metadata": {
  "kernelspec": {
   "display_name": "Python 3",
   "language": "python",
   "name": "python3"
  },
  "language_info": {
   "codemirror_mode": {
    "name": "ipython",
    "version": 3
   },
   "file_extension": ".py",
   "mimetype": "text/x-python",
   "name": "python",
   "nbconvert_exporter": "python",
   "pygments_lexer": "ipython3",
   "version": "3.8.2"
  }
 },
 "nbformat": 4,
 "nbformat_minor": 4
}
